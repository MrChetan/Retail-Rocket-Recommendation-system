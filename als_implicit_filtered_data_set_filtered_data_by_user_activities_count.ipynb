{
  "nbformat": 4,
  "nbformat_minor": 0,
  "metadata": {
    "colab": {
      "name": "als_implicit_filtered_data_set.ipynb",
      "version": "0.3.2",
      "provenance": [],
      "collapsed_sections": [
        "Nr7eQD-oE5t5",
        "3qn2gFll-2vh",
        "dBNyOCUAiLYM",
        "C2RmE6sihTmd",
        "NLeF5rlwiFXb",
        "hkXQg7gM-3bE"
      ],
      "toc_visible": true
    },
    "language_info": {
      "codemirror_mode": {
        "name": "ipython",
        "version": 3
      },
      "file_extension": ".py",
      "mimetype": "text/x-python",
      "name": "python",
      "nbconvert_exporter": "python",
      "pygments_lexer": "ipython3",
      "version": "3.6.8"
    },
    "kernelspec": {
      "display_name": "Python 3",
      "language": "python",
      "name": "python3"
    }
  },
  "cells": [
    {
      "cell_type": "markdown",
      "metadata": {
        "id": "al_pO3YAlLsX",
        "colab_type": "text"
      },
      "source": [
        "# Retail Rocket Recommender System"
      ]
    },
    {
      "cell_type": "code",
      "metadata": {
        "id": "Jh-f6bfWM1ri",
        "colab_type": "code",
        "outputId": "73f1db91-9df6-434d-8676-892feadebd6f",
        "colab": {
          "base_uri": "https://localhost:8080/",
          "height": 238
        }
      },
      "source": [
        "!pip install implicit"
      ],
      "execution_count": 0,
      "outputs": [
        {
          "output_type": "stream",
          "text": [
            "Collecting implicit\n",
            "\u001b[?25l  Downloading https://files.pythonhosted.org/packages/2e/d3/162237c5b41bef34faf5fce513535bc84808113dd3b2497c2437222a9bfc/implicit-0.3.8.tar.gz (783kB)\n",
            "\u001b[K     |████████████████████████████████| 788kB 2.8MB/s \n",
            "\u001b[?25hRequirement already satisfied: numpy in /usr/local/lib/python3.6/dist-packages (from implicit) (1.16.3)\n",
            "Requirement already satisfied: scipy>=0.16 in /usr/local/lib/python3.6/dist-packages (from implicit) (1.2.1)\n",
            "Requirement already satisfied: tqdm in /usr/local/lib/python3.6/dist-packages (from implicit) (4.28.1)\n",
            "Building wheels for collected packages: implicit\n",
            "  Building wheel for implicit (setup.py) ... \u001b[?25l\u001b[?25hdone\n",
            "  Stored in directory: /root/.cache/pip/wheels/16/6c/e7/54f2a48bd3bd8a90f5b456a3e7b2ee687e111dbe25fc9fbf9d\n",
            "Successfully built implicit\n",
            "Installing collected packages: implicit\n",
            "Successfully installed implicit-0.3.8\n"
          ],
          "name": "stdout"
        }
      ]
    },
    {
      "cell_type": "code",
      "metadata": {
        "id": "Wc84140ULa5w",
        "colab_type": "code",
        "colab": {}
      },
      "source": [
        "import datetime\n",
        "import numpy as np\n",
        "import pandas as pd\n",
        "# import scipy and implicit libraries\n",
        "import scipy.sparse as sp\n",
        "from scipy.sparse import vstack\n",
        "from scipy import sparse\n",
        "from scipy.sparse.linalg import spsolve\n",
        "import implicit"
      ],
      "execution_count": 0,
      "outputs": []
    },
    {
      "cell_type": "code",
      "metadata": {
        "id": "a4duTNnMLa55",
        "colab_type": "code",
        "colab": {}
      },
      "source": [
        "# Read csv file and load pandas dataframe\n",
        "df = pd.read_csv('sample_data/events.csv')"
      ],
      "execution_count": 0,
      "outputs": []
    },
    {
      "cell_type": "code",
      "metadata": {
        "id": "kEqTQVSHLa59",
        "colab_type": "code",
        "colab": {}
      },
      "source": [
        "# Creates a dictionary to map user/item id to sparse_matrix index\n",
        "def create_id_to_index_dic(ids_list):\n",
        "    count = 0\n",
        "    ids_dic = dict()\n",
        "    for iden in ids_list:\n",
        "        ids_dic[iden] = count\n",
        "        count += 1\n",
        "    return ids_dic\n",
        "# Create a dictionary to map sparse_matrix index to user/item id\n",
        "def create_index_to_id_dic(ids_list):\n",
        "    count = 0\n",
        "    ids_dic = dict()\n",
        "    for iden in ids_list:\n",
        "        ids_dic[count] = iden\n",
        "        count += 1\n",
        "    return ids_dic\n",
        "\n",
        "def create_confidence_matrix(train_df, user_to_item_matrix, user_id_to_index_dic, item_id_to_index_dic):\n",
        "\n",
        "    # Create the confidence matrix\n",
        "    action_weights = [1,2,3]\n",
        "    for row in train_df.itertuples():\n",
        "\n",
        "        user_id = row[2]\n",
        "        item_id = row[4]\n",
        "        value = 0\n",
        "        if row.event == 'view':\n",
        "            value = action_weights[0]\n",
        "        elif row.event == 'addtocart':\n",
        "            value = action_weights[1]       \n",
        "        elif row.event == 'transaction':\n",
        "            value = action_weights[2]\n",
        "\n",
        "        previous_value = user_to_item_matrix[user_id_to_index_dic[user_id], item_id_to_index_dic[item_id]]\n",
        "        user_to_item_matrix[user_id_to_index_dic[user_id], item_id_to_index_dic[item_id]] = previous_value + value\n",
        "        \n",
        "    return user_to_item_matrix\n",
        "\n",
        "def create_confidence_matrix2(train_df, user_to_item_matrix, user_id_to_index_dic, item_id_to_index_dic):\n",
        "\n",
        "    # Create the confidence matrix\n",
        "    action_weights = [1,2,3]\n",
        "    for row in train_df.itertuples():\n",
        "\n",
        "        user_id = row[2]\n",
        "        item_id = row[4]\n",
        "        value = 0\n",
        "        if row.event == 'view':\n",
        "            value = action_weights[0]\n",
        "        elif row.event == 'addtocart':\n",
        "            value = action_weights[1]       \n",
        "        elif row.event == 'transaction':\n",
        "            value = action_weights[2]\n",
        "\n",
        "        previous_value = user_to_item_matrix[user_id_to_index_dic[user_id], item_id_to_index_dic[item_id]]\n",
        "        if value > previous_value:\n",
        "            user_to_item_matrix[user_id_to_index_dic[user_id], item_id_to_index_dic[item_id]] = value\n",
        "        \n",
        "    return user_to_item_matrix\n",
        "\n",
        "def find_sparsity(user_to_item_matrix):\n",
        "    sparsity = float(len(user_to_item_matrix.nonzero()[0]))\n",
        "    sparsity /= (user_to_item_matrix.shape[0] * user_to_item_matrix.shape[1])\n",
        "    sparsity = 1 - sparsity\n",
        "    sparsity *= 100\n",
        "    print (f\"Sparsity = {sparsity}\")\n",
        "    \n",
        "def get_user_activity_count(df):\n",
        "    user_activity_count = dict()\n",
        "    for row in df.itertuples():\n",
        "        if row.visitorid not in user_activity_count:\n",
        "            user_activity_count[row.visitorid] = {'view':0 , 'addtocart':0, 'transaction':0};\n",
        "        if row.event == 'addtocart':\n",
        "            user_activity_count[row.visitorid]['addtocart'] += 1 \n",
        "        elif row.event == 'transaction':\n",
        "            user_activity_count[row.visitorid]['transaction'] += 1\n",
        "        elif row.event == 'view':\n",
        "            user_activity_count[row.visitorid]['view'] += 1\n",
        "            \n",
        "    return user_activity_count\n",
        "\n",
        "def find_total_user_activities(activities):\n",
        "    total = 0\n",
        "   \n",
        "    for key in activities.keys():\n",
        "        total += activities[key]\n",
        "            \n",
        "    return total\n",
        "\n",
        "def find_hit_ratio(model, user_to_item_trained, test_users_activities, test_df, user_id_to_index_dic, index_to_item_id_dic,filter_already_liked_items=True):\n",
        "    hits = dict()\n",
        "    test_set_userids = set(test_df['visitorid'].unique())\n",
        "    train_set_userids = set(user_id_to_index_dic.keys())\n",
        "    #return the common index\n",
        "    matching_users = train_set_userids.intersection(test_set_userids)\n",
        "    print(f\"Total # of common userIds in TrainSet and TestSet = {len(matching_users)}\")\n",
        "    # Iterate through the test set\n",
        "    for user_id in list(matching_users):\n",
        "        # Find all the items user actually performed view/add/transact\n",
        "        item_ids = set(test_df[(test_df.visitorid == int(user_id))]['itemid'].tolist())\n",
        "        if user_id in user_id_to_index_dic.keys():\n",
        "            # Find the top 100 recommendations\n",
        "            recommendations = model.recommend(user_id_to_index_dic[user_id], user_to_item_trained, N=100, filter_already_liked_items=filter_already_liked_items)\n",
        "            # convert sparse_matrix_indices to item_id\n",
        "            rec_item_ids = [ index_to_item_id_dic[i[0]] for i in recommendations if i[0] in index_to_item_id_dic.keys()]\n",
        "            # Check if there there is any hit between user operations and recommendations\n",
        "            hit = list(item_ids.intersection(set(rec_item_ids)))\n",
        "            if hit:\n",
        "                hit_ratio = len(hit) * 100 / find_total_user_activities(test_users_activities[user_id])\n",
        "                #print(f\"Hit Ratio for user_id: {user_id} =  {hit_ratio:.3f}\")\n",
        "                hits[user_id] = hit_ratio\n",
        "    print(f\"Total # of userIds for successful Recommendation = {len(hits)}\")\n",
        "    print(f\"Total Coverage of Test dataset = {len(hits)/len(matching_users) * 100}\")\n",
        "    return hits\n",
        "\n",
        "def train_test_split(df, num_days=1):\n",
        "    last_day = max(df['date'])\n",
        "    if num_days == 1:\n",
        "        test_df = df[(df.date == last_day)]\n",
        "        train_df = df[(df.date != last_day)]\n",
        "    elif num_days > 1:\n",
        "        test_df = df[(df.date <= last_day) & (df.date > last_day + datetime.timedelta(-num_days))]\n",
        "        train_df = df[(df.date <= last_day + datetime.timedelta(-num_days))]\n",
        "        \n",
        "    print(f\"Training set length = {len(train_df)}\")\n",
        "    print(f\"Test set length = {len(test_df)}\")\n",
        "    \n",
        "    test_df.reset_index(drop=True, inplace=True)\n",
        "    train_df.sort_values('date',inplace=True)\n",
        "    \n",
        "    return train_df, test_df\n",
        "\n",
        "def filter_data_by_events_count(df, min_events_count=2):\n",
        "    \"\"\"\n",
        "     This method will delete all the records for users whose total_events_count < min_events_count\n",
        "    \"\"\"\n",
        "    grouped_df = df.groupby('visitorid').count()\n",
        "    ids_to_delete = list(grouped_df[(grouped_df.event < min_events_count)].index)\n",
        "    \n",
        "    df.set_index('visitorid', drop=False, inplace=True)\n",
        "    df.drop(ids_to_delete, inplace=True)\n",
        "    df.reset_index(drop=True, inplace=True)\n",
        "    \n",
        "    return df"
      ],
      "execution_count": 0,
      "outputs": []
    },
    {
      "cell_type": "markdown",
      "metadata": {
        "id": "Nr7eQD-oE5t5",
        "colab_type": "text"
      },
      "source": [
        "## Filter Data with user events count < 10 and Test Data for last day"
      ]
    },
    {
      "cell_type": "code",
      "metadata": {
        "id": "VgMUukZ_La6B",
        "colab_type": "code",
        "outputId": "077635fa-73e2-4d7f-e9ae-b880ec990131",
        "colab": {
          "base_uri": "https://localhost:8080/",
          "height": 118
        }
      },
      "source": [
        "#filter data with events count less than 10\n",
        "events_less_than_two = filter_data_by_events_count(df, 10);\n",
        "df['date'] = df['timestamp'].apply(lambda tt: datetime.date.fromtimestamp(tt/1000))\n",
        "#take last day data as testing data\n",
        "train_df, test_df = train_test_split(events_less_than_two, 1)"
      ],
      "execution_count": 0,
      "outputs": [
        {
          "output_type": "stream",
          "text": [
            "Training set length = 583072\n",
            "Test set length = 232\n"
          ],
          "name": "stdout"
        },
        {
          "output_type": "stream",
          "text": [
            "/usr/local/lib/python3.6/dist-packages/ipykernel_launcher.py:127: SettingWithCopyWarning: \n",
            "A value is trying to be set on a copy of a slice from a DataFrame\n",
            "\n",
            "See the caveats in the documentation: http://pandas.pydata.org/pandas-docs/stable/indexing.html#indexing-view-versus-copy\n"
          ],
          "name": "stderr"
        }
      ]
    },
    {
      "cell_type": "code",
      "metadata": {
        "id": "nlma0r0FLa6l",
        "colab_type": "code",
        "colab": {}
      },
      "source": [
        ""
      ],
      "execution_count": 0,
      "outputs": []
    },
    {
      "cell_type": "code",
      "metadata": {
        "id": "ZYNFCdgmLa6o",
        "colab_type": "code",
        "colab": {}
      },
      "source": [
        "# Find unique user_ids in training set\n",
        "training_user_ids = sorted(train_df['visitorid'].unique())\n",
        "user_id_to_index_dic = create_id_to_index_dic(training_user_ids)\n",
        "index_to_user_id_dic = create_index_to_id_dic(training_user_ids)\n",
        "\n",
        "# Find unique item_ids in training set\n",
        "training_item_ids = sorted(train_df['itemid'].unique())\n",
        "item_id_to_index_dic = create_id_to_index_dic(training_item_ids)\n",
        "index_to_item_id_dic = create_index_to_id_dic(training_item_ids)"
      ],
      "execution_count": 0,
      "outputs": []
    },
    {
      "cell_type": "code",
      "metadata": {
        "id": "0CX9UcZ8aJ5N",
        "colab_type": "code",
        "outputId": "91919b4b-584d-4cdc-c67b-460701a886d0",
        "colab": {
          "base_uri": "https://localhost:8080/",
          "height": 34
        }
      },
      "source": [
        "len(training_user_ids) \n",
        "len(training_item_ids)"
      ],
      "execution_count": 0,
      "outputs": [
        {
          "output_type": "execute_result",
          "data": {
            "text/plain": [
              "77050"
            ]
          },
          "metadata": {
            "tags": []
          },
          "execution_count": 84
        }
      ]
    },
    {
      "cell_type": "code",
      "metadata": {
        "id": "JaCUsQI2La6s",
        "colab_type": "code",
        "outputId": "56173daa-92ed-4bb4-c892-536dd6ff45e7",
        "colab": {
          "base_uri": "https://localhost:8080/",
          "height": 50
        }
      },
      "source": [
        "# Initiate a confidence_matrix\n",
        "user_to_item_matrix = sp.dok_matrix((len(user_id_to_index_dic), len(item_id_to_index_dic)), dtype=np.int8)\n",
        "user_to_item_matrix = create_confidence_matrix(train_df, user_to_item_matrix, user_id_to_index_dic, item_id_to_index_dic)\n",
        "find_sparsity(user_to_item_matrix)\n",
        "model = implicit.als.AlternatingLeastSquares(factors=250, iterations=20, use_gpu=False)\n",
        "alpha = 50\n",
        "confidence_item_to_user = user_to_item_matrix.T * alpha\n",
        "model.fit(confidence_item_to_user)\n",
        "user_to_item_trained = confidence_item_to_user.T.tocsr()\n",
        "test_users_activities = get_user_activity_count(test_df)\n",
        "\n"
      ],
      "execution_count": 0,
      "outputs": [
        {
          "output_type": "stream",
          "text": [
            "Sparsity = 99.98226386593797\n"
          ],
          "name": "stdout"
        },
        {
          "output_type": "stream",
          "text": [
            "100%|██████████| 20.0/20 [05:41<00:00, 17.37s/it]\n"
          ],
          "name": "stderr"
        }
      ]
    },
    {
      "cell_type": "code",
      "metadata": {
        "id": "swHyYA7kRxLS",
        "colab_type": "code",
        "outputId": "d7dc5183-d418-4020-e9c6-0830500c2ae3",
        "colab": {
          "base_uri": "https://localhost:8080/",
          "height": 67
        }
      },
      "source": [
        "# filter_already_liked_items set to true\n",
        "hit_ratio = find_hit_ratio(model, user_to_item_trained, test_users_activities, test_df, user_id_to_index_dic, index_to_item_id_dic,True)"
      ],
      "execution_count": 0,
      "outputs": [
        {
          "output_type": "stream",
          "text": [
            "Total # of common userIds in TrainSet and TestSet = 54\n",
            "Total # of userIds for successful Recommendation = 7\n",
            "Total Coverage of Test dataset = 12.962962962962962\n"
          ],
          "name": "stdout"
        }
      ]
    },
    {
      "cell_type": "code",
      "metadata": {
        "id": "fbZbjhS9RxRH",
        "colab_type": "code",
        "outputId": "081001a7-bdbd-49f9-bf2e-1dd9aa0b3e73",
        "colab": {
          "base_uri": "https://localhost:8080/",
          "height": 67
        }
      },
      "source": [
        "# filter_already_liked_items set to false\n",
        "hit_ratio = find_hit_ratio(model, user_to_item_trained, test_users_activities, test_df, user_id_to_index_dic, index_to_item_id_dic,False)"
      ],
      "execution_count": 0,
      "outputs": [
        {
          "output_type": "stream",
          "text": [
            "Total # of common userIds in TrainSet and TestSet = 54\n",
            "Total # of userIds for successful Recommendation = 26\n",
            "Total Coverage of Test dataset = 48.148148148148145\n"
          ],
          "name": "stdout"
        }
      ]
    },
    {
      "cell_type": "markdown",
      "metadata": {
        "id": "XfO9Y_ApVGaa",
        "colab_type": "text"
      },
      "source": [
        "### create_confidence_matrix2 Method"
      ]
    },
    {
      "cell_type": "code",
      "metadata": {
        "id": "pDMqY7SvTdhh",
        "colab_type": "code",
        "outputId": "065469a6-1e18-48e5-b3f2-e37a6cd1e0d6",
        "colab": {
          "base_uri": "https://localhost:8080/",
          "height": 50
        }
      },
      "source": [
        "# Initiate a confidence_matrix\n",
        "#filter data with use count <10 and took last 1 day data as\n",
        "user_to_item_matrix_1 = sp.dok_matrix((len(user_id_to_index_dic), len(item_id_to_index_dic)), dtype=np.int8)\n",
        "user_to_item_matrix_1 = create_confidence_matrix2(train_df, user_to_item_matrix_1, user_id_to_index_dic, item_id_to_index_dic)\n",
        "find_sparsity(user_to_item_matrix_1)\n",
        "model = implicit.als.AlternatingLeastSquares(factors=250, iterations=20, use_gpu=False)\n",
        "alpha = 50\n",
        "confidence_item_to_user_1 = user_to_item_matrix_1.T * alpha\n",
        "model.fit(confidence_item_to_user_1)\n",
        "user_to_item_trained_1 = confidence_item_to_user_1.T.tocsr()\n",
        "test_users_activities_1 = get_user_activity_count(test_df)\n"
      ],
      "execution_count": 0,
      "outputs": [
        {
          "output_type": "stream",
          "text": [
            "Sparsity = 99.98226386593797\n"
          ],
          "name": "stdout"
        },
        {
          "output_type": "stream",
          "text": [
            "100%|██████████| 20.0/20 [06:28<00:00, 20.00s/it]\n"
          ],
          "name": "stderr"
        }
      ]
    },
    {
      "cell_type": "code",
      "metadata": {
        "id": "5-lqcJTnVgMx",
        "colab_type": "code",
        "outputId": "da74f1f7-348a-4797-e58d-c7ad1dae4ea5",
        "colab": {
          "base_uri": "https://localhost:8080/",
          "height": 67
        }
      },
      "source": [
        "# filter_already_liked_items set to true\n",
        "hit_ratio = find_hit_ratio(model, user_to_item_trained_1, test_users_activities_1, test_df, user_id_to_index_dic, index_to_item_id_dic,True)"
      ],
      "execution_count": 0,
      "outputs": [
        {
          "output_type": "stream",
          "text": [
            "Total # of common userIds in TrainSet and TestSet = 54\n",
            "Total # of userIds for successful Recommendation = 9\n",
            "Total Coverage of Test dataset = 16.666666666666664\n"
          ],
          "name": "stdout"
        }
      ]
    },
    {
      "cell_type": "code",
      "metadata": {
        "id": "YQuq1i6tVfEp",
        "colab_type": "code",
        "outputId": "2f50ce1d-0ef6-4a48-c3f6-10e25b834946",
        "colab": {
          "base_uri": "https://localhost:8080/",
          "height": 67
        }
      },
      "source": [
        "# filter_already_liked_items set to false\n",
        "hit_ratio = find_hit_ratio(model, user_to_item_trained_1, test_users_activities_1, test_df, user_id_to_index_dic, index_to_item_id_dic,False)"
      ],
      "execution_count": 0,
      "outputs": [
        {
          "output_type": "stream",
          "text": [
            "Total # of common userIds in TrainSet and TestSet = 54\n",
            "Total # of userIds for successful Recommendation = 38\n",
            "Total Coverage of Test dataset = 70.37037037037037\n"
          ],
          "name": "stdout"
        }
      ]
    },
    {
      "cell_type": "markdown",
      "metadata": {
        "id": "7RrOk8XAVwfe",
        "colab_type": "text"
      },
      "source": [
        "### Changed alpha from 50 to 60"
      ]
    },
    {
      "cell_type": "code",
      "metadata": {
        "id": "b89fVbK1FWWa",
        "colab_type": "code",
        "outputId": "83fcee59-e9e4-4e02-95ec-e6c7b5f92856",
        "colab": {
          "base_uri": "https://localhost:8080/",
          "height": 50
        }
      },
      "source": [
        "# Initiate a confidence_matrix\n",
        "user_to_item_matrix_2 = sp.dok_matrix((len(user_id_to_index_dic), len(item_id_to_index_dic)), dtype=np.int8)\n",
        "user_to_item_matrix_2 = create_confidence_matrix(train_df, user_to_item_matrix_2, user_id_to_index_dic, item_id_to_index_dic)\n",
        "find_sparsity(user_to_item_matrix_2)\n",
        "model = implicit.als.AlternatingLeastSquares(factors=250, iterations=20, use_gpu=False)\n",
        "alpha = 60\n",
        "confidence_item_to_user_2 = user_to_item_matrix_2.T * alpha\n",
        "model.fit(confidence_item_to_user_2)\n",
        "user_to_item_trained_2 = confidence_item_to_user_2.T.tocsr()\n",
        "test_users_activities_2 = get_user_activity_count(test_df)"
      ],
      "execution_count": 0,
      "outputs": [
        {
          "output_type": "stream",
          "text": [
            "Sparsity = 99.98226386593797\n"
          ],
          "name": "stdout"
        },
        {
          "output_type": "stream",
          "text": [
            "100%|██████████| 20.0/20 [05:50<00:00, 18.05s/it]\n"
          ],
          "name": "stderr"
        }
      ]
    },
    {
      "cell_type": "code",
      "metadata": {
        "id": "UFYspuZ4GluZ",
        "colab_type": "code",
        "outputId": "b1b15606-5b9a-4fad-d18a-f523c0e797aa",
        "colab": {
          "base_uri": "https://localhost:8080/",
          "height": 67
        }
      },
      "source": [
        "# filter_already_liked_items set to true\n",
        "hit_ratio = find_hit_ratio(model, user_to_item_trained_2, test_users_activities_2, test_df, user_id_to_index_dic, index_to_item_id_dic,True)"
      ],
      "execution_count": 0,
      "outputs": [
        {
          "output_type": "stream",
          "text": [
            "Total # of common userIds in TrainSet and TestSet = 54\n",
            "Total # of userIds for successful Recommendation = 10\n",
            "Total Coverage of Test dataset = 18.51851851851852\n"
          ],
          "name": "stdout"
        }
      ]
    },
    {
      "cell_type": "code",
      "metadata": {
        "id": "eqrc_1e3SLt2",
        "colab_type": "code",
        "outputId": "84483373-9fc4-4ba5-d5f1-e2cea36e5a1a",
        "colab": {
          "base_uri": "https://localhost:8080/",
          "height": 67
        }
      },
      "source": [
        "# filter_already_liked_items set to false\n",
        "hit_ratio = find_hit_ratio(model, user_to_item_trained_2, test_users_activities_2, test_df, user_id_to_index_dic, index_to_item_id_dic,False)"
      ],
      "execution_count": 0,
      "outputs": [
        {
          "output_type": "stream",
          "text": [
            "Total # of common userIds in TrainSet and TestSet = 54\n",
            "Total # of userIds for successful Recommendation = 29\n",
            "Total Coverage of Test dataset = 53.70370370370371\n"
          ],
          "name": "stdout"
        }
      ]
    },
    {
      "cell_type": "code",
      "metadata": {
        "id": "xpwwa3CKGXp8",
        "colab_type": "code",
        "colab": {}
      },
      "source": [
        ""
      ],
      "execution_count": 0,
      "outputs": []
    },
    {
      "cell_type": "markdown",
      "metadata": {
        "id": "Ybq3eFZlX2bL",
        "colab_type": "text"
      },
      "source": [
        "### create_confidence_matrix2 Method"
      ]
    },
    {
      "cell_type": "code",
      "metadata": {
        "id": "Ci21zuU2YBgf",
        "colab_type": "code",
        "outputId": "0673384c-9161-4cbc-8bf7-c95d95d02860",
        "colab": {
          "base_uri": "https://localhost:8080/",
          "height": 50
        }
      },
      "source": [
        "# Initiate a confidence_matrix\n",
        "user_to_item_matrix_3 = sp.dok_matrix((len(user_id_to_index_dic), len(item_id_to_index_dic)), dtype=np.int8)\n",
        "user_to_item_matrix_3 = create_confidence_matrix2(train_df, user_to_item_matrix_3, user_id_to_index_dic, item_id_to_index_dic)\n",
        "find_sparsity(user_to_item_matrix_3)\n",
        "model = implicit.als.AlternatingLeastSquares(factors=250, iterations=20, use_gpu=False)\n",
        "  alpha = t,ll.m\n",
        "confidence_item_to_user_3 = user_to_item_matrix_3.T * alpha\n",
        "model.fit(confidence_item_to_user_3)\n",
        "user_to_item_trained_3 = confidence_item_to_user_3.T.tocsr()\n",
        "test_users_activities_3 = get_user_activity_count(test_df)"
      ],
      "execution_count": 0,
      "outputs": [
        {
          "output_type": "stream",
          "text": [
            "Sparsity = 99.98226386593797\n"
          ],
          "name": "stdout"
        },
        {
          "output_type": "stream",
          "text": [
            "100%|██████████| 20.0/20 [06:03<00:00, 19.36s/it]\n"
          ],
          "name": "stderr"
        }
      ]
    },
    {
      "cell_type": "code",
      "metadata": {
        "id": "Oz_MGW7PYExe",
        "colab_type": "code",
        "outputId": "43eb3199-80b0-4ab6-f47e-88687c0be567",
        "colab": {
          "base_uri": "https://localhost:8080/",
          "height": 67
        }
      },
      "source": [
        "# filter_already_liked_items set to true\n",
        "hit_ratio = find_hit_ratio(model, user_to_item_trained_3, test_users_activities_3, test_df, user_id_to_index_dic, index_to_item_id_dic,True)"
      ],
      "execution_count": 0,
      "outputs": [
        {
          "output_type": "stream",
          "text": [
            "Total # of common userIds in TrainSet and TestSet = 54\n",
            "Total # of userIds for successful Recommendation = 9\n",
            "Total Coverage of Test dataset = 16.666666666666664\n"
          ],
          "name": "stdout"
        }
      ]
    },
    {
      "cell_type": "code",
      "metadata": {
        "id": "KR7Dv2P5YE33",
        "colab_type": "code",
        "outputId": "d1cb697e-5176-4227-e625-9062af81d823",
        "colab": {
          "base_uri": "https://localhost:8080/",
          "height": 67
        }
      },
      "source": [
        "# filter_already_liked_items set to false\n",
        "hit_ratio = find_hit_ratio(model, user_to_item_trained_3, test_users_activities_3, test_df, user_id_to_index_dic, index_to_item_id_dic,False)"
      ],
      "execution_count": 0,
      "outputs": [
        {
          "output_type": "stream",
          "text": [
            "Total # of common userIds in TrainSet and TestSet = 54\n",
            "Total # of userIds for successful Recommendation = 38\n",
            "Total Coverage of Test dataset = 70.37037037037037\n"
          ],
          "name": "stdout"
        }
      ]
    },
    {
      "cell_type": "markdown",
      "metadata": {
        "id": "pUoU7XJzLa7Z",
        "colab_type": "text"
      },
      "source": [
        "## Filter Data with user events count < 10 and Test Data for last 5 days"
      ]
    },
    {
      "cell_type": "code",
      "metadata": {
        "id": "U-2xpX4UYh4a",
        "colab_type": "code",
        "outputId": "152333b0-5b32-4a89-a5a6-4a5d16c93457",
        "colab": {
          "base_uri": "https://localhost:8080/",
          "height": 118
        }
      },
      "source": [
        "# Read csv file and load pandas dataframe\n",
        "df_1 = pd.read_csv('sample_data/events.csv')\n",
        "#filter data with events count less than 10\n",
        "events_less_than_ten = filter_data_by_events_count(df_1, 10);\n",
        "df_1['date'] = df_1['timestamp'].apply(lambda tt: datetime.date.fromtimestamp(tt/1000))\n",
        "#take last day data as testing data\n",
        "train_df_1, test_df_1 = train_test_split(events_less_than_ten, 5)"
      ],
      "execution_count": 0,
      "outputs": [
        {
          "output_type": "stream",
          "text": [
            "Training set length = 571795\n",
            "Test set length = 11509\n"
          ],
          "name": "stdout"
        },
        {
          "output_type": "stream",
          "text": [
            "/usr/local/lib/python3.6/dist-packages/ipykernel_launcher.py:127: SettingWithCopyWarning: \n",
            "A value is trying to be set on a copy of a slice from a DataFrame\n",
            "\n",
            "See the caveats in the documentation: http://pandas.pydata.org/pandas-docs/stable/indexing.html#indexing-view-versus-copy\n"
          ],
          "name": "stderr"
        }
      ]
    },
    {
      "cell_type": "code",
      "metadata": {
        "scrolled": true,
        "id": "DY3anjz9La7a",
        "colab_type": "code",
        "colab": {}
      },
      "source": [
        "# Find unique user_ids in training set\n",
        "training_user_ids_1 = sorted(train_df_1['visitorid'].unique())\n",
        "user_id_to_index_dic_1 = create_id_to_index_dic(training_user_ids_1)\n",
        "index_to_user_id_dic_1 = create_index_to_id_dic(training_user_ids_1)\n",
        "\n",
        "# Find unique item_ids in training set\n",
        "training_item_ids_1 = sorted(train_df_1['itemid'].unique())\n",
        "item_id_to_index_dic_1 = create_id_to_index_dic(training_item_ids_1)\n",
        "index_to_item_id_dic_1 = create_index_to_id_dic(training_item_ids_1)"
      ],
      "execution_count": 0,
      "outputs": []
    },
    {
      "cell_type": "code",
      "metadata": {
        "id": "DZYjcTu6cEXw",
        "colab_type": "code",
        "outputId": "5e1251d6-cb6c-4623-903d-7956a7f9c5a4",
        "colab": {
          "base_uri": "https://localhost:8080/",
          "height": 34
        }
      },
      "source": [
        "len(training_user_ids_1)\n",
        "len(user_id_to_index_dic_1)"
      ],
      "execution_count": 0,
      "outputs": [
        {
          "output_type": "execute_result",
          "data": {
            "text/plain": [
              "23013"
            ]
          },
          "metadata": {
            "tags": []
          },
          "execution_count": 87
        }
      ]
    },
    {
      "cell_type": "code",
      "metadata": {
        "id": "BvZxysWBcIfr",
        "colab_type": "code",
        "outputId": "fd6d4324-a4f2-4a29-cbc2-e3ecc132c870",
        "colab": {
          "base_uri": "https://localhost:8080/",
          "height": 34
        }
      },
      "source": [
        "len(training_item_ids_1)"
      ],
      "execution_count": 0,
      "outputs": [
        {
          "output_type": "execute_result",
          "data": {
            "text/plain": [
              "76317"
            ]
          },
          "metadata": {
            "tags": []
          },
          "execution_count": 86
        }
      ]
    },
    {
      "cell_type": "markdown",
      "metadata": {
        "id": "rxSJs50WbTyN",
        "colab_type": "text"
      },
      "source": [
        "### Alpha set to 50"
      ]
    },
    {
      "cell_type": "code",
      "metadata": {
        "id": "D_FPK-XrLa7f",
        "colab_type": "code",
        "outputId": "60f29e55-b14e-4e75-e368-54fdcc417926",
        "colab": {
          "base_uri": "https://localhost:8080/",
          "height": 50
        }
      },
      "source": [
        "# Initiate a confidence_matrix\n",
        "user_to_item_matrix_4 = sp.dok_matrix((len(user_id_to_index_dic_1), len(item_id_to_index_dic_1)), dtype=np.int8)\n",
        "user_to_item_matrix_4 = create_confidence_matrix(train_df_1, user_to_item_matrix_4, user_id_to_index_dic_1, item_id_to_index_dic_1)\n",
        "find_sparsity(user_to_item_matrix_4)\n",
        "model = implicit.als.AlternatingLeastSquares(factors=250, iterations=20, use_gpu=False)\n",
        "alpha = 50\n",
        "confidence_item_to_user_4 = user_to_item_matrix_4.T * alpha\n",
        "model.fit(confidence_item_to_user_4)\n",
        "user_to_item_trained_4 = confidence_item_to_user_4.T.tocsr()\n",
        "test_users_activities_4 = get_user_activity_count(test_df_1)"
      ],
      "execution_count": 0,
      "outputs": [
        {
          "output_type": "stream",
          "text": [
            "Sparsity = 99.98226464763708\n"
          ],
          "name": "stdout"
        },
        {
          "output_type": "stream",
          "text": [
            "100%|██████████| 20.0/20 [06:21<00:00, 22.68s/it]\n"
          ],
          "name": "stderr"
        }
      ]
    },
    {
      "cell_type": "code",
      "metadata": {
        "id": "i1LkZg8lbeQl",
        "colab_type": "code",
        "outputId": "fc8ca4c8-2798-40c5-8d56-94294f90e1f1",
        "colab": {
          "base_uri": "https://localhost:8080/",
          "height": 67
        }
      },
      "source": [
        "# filter_already_liked_items set to true\n",
        "hit_ratio = find_hit_ratio(model, user_to_item_trained_4, test_users_activities_4, test_df_1, user_id_to_index_dic_1, index_to_item_id_dic_1,True)"
      ],
      "execution_count": 0,
      "outputs": [
        {
          "output_type": "stream",
          "text": [
            "Total # of common userIds in TrainSet and TestSet = 1020\n",
            "Total # of userIds for successful Recommendation = 153\n",
            "Total Coverage of Test dataset = 15.0\n"
          ],
          "name": "stdout"
        }
      ]
    },
    {
      "cell_type": "code",
      "metadata": {
        "id": "jEAWhvHtbiAs",
        "colab_type": "code",
        "outputId": "e8ecd774-55d0-449d-b302-8ea2186abbe2",
        "colab": {
          "base_uri": "https://localhost:8080/",
          "height": 67
        }
      },
      "source": [
        "# filter_already_liked_items set to false\n",
        "hit_ratio = find_hit_ratio(model, user_to_item_trained_4, test_users_activities_4, test_df_1, user_id_to_index_dic_1, index_to_item_id_dic_1,False)"
      ],
      "execution_count": 0,
      "outputs": [
        {
          "output_type": "stream",
          "text": [
            "Total # of common userIds in TrainSet and TestSet = 1020\n",
            "Total # of userIds for successful Recommendation = 389\n",
            "Total Coverage of Test dataset = 38.13725490196078\n"
          ],
          "name": "stdout"
        }
      ]
    },
    {
      "cell_type": "markdown",
      "metadata": {
        "id": "90QXEDlZeE-Y",
        "colab_type": "text"
      },
      "source": [
        "### Alpha set to 60"
      ]
    },
    {
      "cell_type": "code",
      "metadata": {
        "id": "7IGzBBk9eDt4",
        "colab_type": "code",
        "outputId": "9460f53d-ad8a-4995-a0dd-77a2f7977563",
        "colab": {
          "base_uri": "https://localhost:8080/",
          "height": 50
        }
      },
      "source": [
        "# Initiate a confidence_matrix\n",
        "user_to_item_matrix_5 = sp.dok_matrix((len(user_id_to_index_dic_1), len(item_id_to_index_dic_1)), dtype=np.int8)\n",
        "user_to_item_matrix_5 = create_confidence_matrix(train_df_1, user_to_item_matrix_5, user_id_to_index_dic_1, item_id_to_index_dic_1)\n",
        "find_sparsity(user_to_item_matrix_5)\n",
        "model = implicit.als.AlternatingLeastSquares(factors=250, iterations=20, use_gpu=False)\n",
        "alpha = 60\n",
        "confidence_item_to_user_5 = user_to_item_matrix_5.T * alpha\n",
        "model.fit(confidence_item_to_user_5)\n",
        "user_to_item_trained_5 = confidence_item_to_user_5.T.tocsr()\n",
        "test_users_activities_5 = get_user_activity_count(test_df_1)"
      ],
      "execution_count": 0,
      "outputs": [
        {
          "output_type": "stream",
          "text": [
            "Sparsity = 99.98226464763708\n"
          ],
          "name": "stdout"
        },
        {
          "output_type": "stream",
          "text": [
            "100%|██████████| 20.0/20 [06:41<00:00, 17.99s/it]\n"
          ],
          "name": "stderr"
        }
      ]
    },
    {
      "cell_type": "code",
      "metadata": {
        "id": "MFeFoFkAeCML",
        "colab_type": "code",
        "outputId": "120aad0a-aa35-4853-8a85-29be269e1d04",
        "colab": {
          "base_uri": "https://localhost:8080/",
          "height": 67
        }
      },
      "source": [
        "# filter_already_liked_items set to true\n",
        "hit_ratio = find_hit_ratio(model, user_to_item_trained_5, test_users_activities_5, test_df_1, user_id_to_index_dic_1, index_to_item_id_dic_1,True)"
      ],
      "execution_count": 0,
      "outputs": [
        {
          "output_type": "stream",
          "text": [
            "Total # of common userIds in TrainSet and TestSet = 1020\n",
            "Total # of userIds for successful Recommendation = 158\n",
            "Total Coverage of Test dataset = 15.490196078431373\n"
          ],
          "name": "stdout"
        }
      ]
    },
    {
      "cell_type": "code",
      "metadata": {
        "id": "Q6tdukJrecgD",
        "colab_type": "code",
        "outputId": "5a6a977f-ffac-4544-988f-692e71714d2b",
        "colab": {
          "base_uri": "https://localhost:8080/",
          "height": 67
        }
      },
      "source": [
        "# filter_already_liked_items set to false\n",
        "hit_ratio = find_hit_ratio(model, user_to_item_trained_5, test_users_activities_5, test_df_1, user_id_to_index_dic_1, index_to_item_id_dic_1,False)"
      ],
      "execution_count": 0,
      "outputs": [
        {
          "output_type": "stream",
          "text": [
            "Total # of common userIds in TrainSet and TestSet = 1020\n",
            "Total # of userIds for successful Recommendation = 402\n",
            "Total Coverage of Test dataset = 39.411764705882355\n"
          ],
          "name": "stdout"
        }
      ]
    },
    {
      "cell_type": "markdown",
      "metadata": {
        "id": "SXmCPRpGi1Rj",
        "colab_type": "text"
      },
      "source": [
        "### Use create_confidence_matrix2 Method"
      ]
    },
    {
      "cell_type": "code",
      "metadata": {
        "id": "dEsGwx1NizjG",
        "colab_type": "code",
        "outputId": "f0d10f48-246c-42c3-eb9c-c8576a062e8a",
        "colab": {
          "base_uri": "https://localhost:8080/",
          "height": 50
        }
      },
      "source": [
        "# Initiate a confidence_matrix\n",
        "user_to_item_matrix_6 = sp.dok_matrix((len(user_id_to_index_dic_1), len(item_id_to_index_dic_1)), dtype=np.int8)\n",
        "user_to_item_matrix_6 = create_confidence_matrix2(train_df_1, user_to_item_matrix_6, user_id_to_index_dic_1, item_id_to_index_dic_1)\n",
        "find_sparsity(user_to_item_matrix_6)\n",
        "model = implicit.als.AlternatingLeastSquares(factors=250, iterations=20, use_gpu=False)\n",
        "alpha = 60\n",
        "confidence_item_to_user_6 = user_to_item_matrix_6.T * alpha\n",
        "model.fit(confidence_item_to_user_6)\n",
        "user_to_item_trained_6 = confidence_item_to_user_6.T.tocsr()\n",
        "test_users_activities_6 = get_user_activity_count(test_df_1)"
      ],
      "execution_count": 0,
      "outputs": [
        {
          "output_type": "stream",
          "text": [
            "Sparsity = 99.98226464763708\n"
          ],
          "name": "stdout"
        },
        {
          "output_type": "stream",
          "text": [
            "100%|██████████| 20.0/20 [06:05<00:00, 18.14s/it]\n"
          ],
          "name": "stderr"
        }
      ]
    },
    {
      "cell_type": "code",
      "metadata": {
        "id": "Oc_RowCRjXBD",
        "colab_type": "code",
        "outputId": "6ec9ead7-a259-4ea1-dce7-3ef896f21c88",
        "colab": {
          "base_uri": "https://localhost:8080/",
          "height": 67
        }
      },
      "source": [
        "# filter_already_liked_items set to true\n",
        "hit_ratio = find_hit_ratio(model, user_to_item_trained_6, test_users_activities_6, test_df_1, user_id_to_index_dic_1, index_to_item_id_dic_1,True)"
      ],
      "execution_count": 0,
      "outputs": [
        {
          "output_type": "stream",
          "text": [
            "Total # of common userIds in TrainSet and TestSet = 1020\n",
            "Total # of userIds for successful Recommendation = 178\n",
            "Total Coverage of Test dataset = 17.45098039215686\n"
          ],
          "name": "stdout"
        }
      ]
    },
    {
      "cell_type": "code",
      "metadata": {
        "id": "-2sBC_5gjXgg",
        "colab_type": "code",
        "outputId": "7aed0e46-78fd-4063-9187-e910e43ed1d8",
        "colab": {
          "base_uri": "https://localhost:8080/",
          "height": 67
        }
      },
      "source": [
        "# filter_already_liked_items set to true\n",
        "hit_ratio = find_hit_ratio(model, user_to_item_trained_6, test_users_activities_6, test_df_1, user_id_to_index_dic_1, index_to_item_id_dic_1,False)"
      ],
      "execution_count": 0,
      "outputs": [
        {
          "output_type": "stream",
          "text": [
            "Total # of common userIds in TrainSet and TestSet = 1020\n",
            "Total # of userIds for successful Recommendation = 505\n",
            "Total Coverage of Test dataset = 49.50980392156863\n"
          ],
          "name": "stdout"
        }
      ]
    },
    {
      "cell_type": "markdown",
      "metadata": {
        "id": "QIYLItnynX9a",
        "colab_type": "text"
      },
      "source": [
        "# Filter Data with user events count < 5 and Test Data for last 3 days"
      ]
    },
    {
      "cell_type": "code",
      "metadata": {
        "id": "8vBnMXPsnWCP",
        "colab_type": "code",
        "outputId": "d6c9f8d6-8561-4ff7-eafe-8ce11cf15608",
        "colab": {
          "base_uri": "https://localhost:8080/",
          "height": 118
        }
      },
      "source": [
        "# Read csv file and load pandas dataframe\n",
        "df_2 = pd.read_csv('sample_data/events.csv')\n",
        "#filter data with events count less than 10\n",
        "events_less_than_five = filter_data_by_events_count(df_2, 5);\n",
        "df_2['date'] = df_2['timestamp'].apply(lambda tt: datetime.date.fromtimestamp(tt/1000))\n",
        "#take last day data as testing data\n",
        "train_df_2, test_df_2 = train_test_split(events_less_than_five, 3)"
      ],
      "execution_count": 0,
      "outputs": [
        {
          "output_type": "stream",
          "text": [
            "Training set length = 941151\n",
            "Test set length = 7386\n"
          ],
          "name": "stdout"
        },
        {
          "output_type": "stream",
          "text": [
            "/usr/local/lib/python3.6/dist-packages/ipykernel_launcher.py:127: SettingWithCopyWarning: \n",
            "A value is trying to be set on a copy of a slice from a DataFrame\n",
            "\n",
            "See the caveats in the documentation: http://pandas.pydata.org/pandas-docs/stable/indexing.html#indexing-view-versus-copy\n"
          ],
          "name": "stderr"
        }
      ]
    },
    {
      "cell_type": "code",
      "metadata": {
        "id": "znbWEqE-nvyU",
        "colab_type": "code",
        "colab": {}
      },
      "source": [
        "# Find unique user_ids in training set\n",
        "training_user_ids_7 = sorted(train_df_2['visitorid'].unique())\n",
        "user_id_to_index_dic_3 = create_id_to_index_dic(training_user_ids_7)\n",
        "index_to_user_id_dic_3 = create_index_to_id_dic(training_user_ids_7)\n",
        "\n",
        "# Find unique item_ids in training set\n",
        "training_item_ids_7 = sorted(train_df_2['itemid'].unique())\n",
        "item_id_to_index_dic_3 = create_id_to_index_dic(training_item_ids_7)\n",
        "index_to_item_id_dic_3 = create_index_to_id_dic(training_item_ids_7)"
      ],
      "execution_count": 0,
      "outputs": []
    },
    {
      "cell_type": "code",
      "metadata": {
        "id": "dmqw1EWVn_xf",
        "colab_type": "code",
        "outputId": "cdb46acc-ba9b-4b1c-8279-9e4d3134ba14",
        "colab": {
          "base_uri": "https://localhost:8080/",
          "height": 50
        }
      },
      "source": [
        "# Initiate a confidence_matrix\n",
        "user_to_item_matrix_7 = sp.dok_matrix((len(user_id_to_index_dic_3), len(item_id_to_index_dic_3)), dtype=np.int8)\n",
        "user_to_item_matrix_7 = create_confidence_matrix(train_df_2, user_to_item_matrix_7, user_id_to_index_dic_3, item_id_to_index_dic_3)\n",
        "find_sparsity(user_to_item_matrix_7)\n",
        "model = implicit.als.AlternatingLeastSquares(factors=250, iterations=20, use_gpu=False)\n",
        "alpha = 60\n",
        "confidence_item_to_user_7 = user_to_item_matrix_7.T * alpha\n",
        "model.fit(confidence_item_to_user_7)\n",
        "user_to_item_trained_7 = confidence_item_to_user_7.T.tocsr()\n",
        "test_users_activities_7 = get_user_activity_count(test_df_2)"
      ],
      "execution_count": 0,
      "outputs": [
        {
          "output_type": "stream",
          "text": [
            "Sparsity = 99.99357762304004\n"
          ],
          "name": "stdout"
        },
        {
          "output_type": "stream",
          "text": [
            "100%|██████████| 20.0/20 [12:34<00:00, 36.76s/it]\n"
          ],
          "name": "stderr"
        }
      ]
    },
    {
      "cell_type": "code",
      "metadata": {
        "id": "MJ3AIIpHuKqz",
        "colab_type": "code",
        "outputId": "91784e16-0958-4765-be1a-1e94a35302d0",
        "colab": {
          "base_uri": "https://localhost:8080/",
          "height": 67
        }
      },
      "source": [
        "# filter_already_liked_items set to true\n",
        "hit_ratio = find_hit_ratio(model, user_to_item_trained_7, test_users_activities_7, test_df_2, user_id_to_index_dic_3, index_to_item_id_dic_3,True)"
      ],
      "execution_count": 0,
      "outputs": [
        {
          "output_type": "stream",
          "text": [
            "Total # of common userIds in TrainSet and TestSet = 919\n",
            "Total # of userIds for successful Recommendation = 134\n",
            "Total Coverage of Test dataset = 14.58106637649619\n"
          ],
          "name": "stdout"
        }
      ]
    },
    {
      "cell_type": "code",
      "metadata": {
        "id": "E1wCpgtYuXAB",
        "colab_type": "code",
        "outputId": "936a9646-ae22-4b87-f33c-08b597e9e55d",
        "colab": {
          "base_uri": "https://localhost:8080/",
          "height": 67
        }
      },
      "source": [
        "# filter_already_liked_items set to false\n",
        "hit_ratio = find_hit_ratio(model, user_to_item_trained_7, test_users_activities_7, test_df_2, user_id_to_index_dic_3, index_to_item_id_dic_3,False)"
      ],
      "execution_count": 0,
      "outputs": [
        {
          "output_type": "stream",
          "text": [
            "Total # of common userIds in TrainSet and TestSet = 919\n",
            "Total # of userIds for successful Recommendation = 339\n",
            "Total Coverage of Test dataset = 36.88792165397171\n"
          ],
          "name": "stdout"
        }
      ]
    },
    {
      "cell_type": "markdown",
      "metadata": {
        "id": "3qn2gFll-2vh",
        "colab_type": "text"
      },
      "source": [
        "## Filtering Data with Events less than 2 and test data of last 2 days"
      ]
    },
    {
      "cell_type": "code",
      "metadata": {
        "id": "BySjLl53_Doa",
        "colab_type": "code",
        "colab": {}
      },
      "source": [
        "df = pd.read_csv('sample_data/events.csv')\n",
        "#filter data with events less than 2\n",
        "events_less_than_two = filter_data_by_events_count(df, 2);"
      ],
      "execution_count": 0,
      "outputs": []
    },
    {
      "cell_type": "code",
      "metadata": {
        "id": "kUMAespSU1rb",
        "colab_type": "code",
        "colab": {}
      },
      "source": [
        "events_less_than_two['date'] = events_less_than_two['timestamp'].apply(lambda tt: datetime.date.fromtimestamp(tt/1000))"
      ],
      "execution_count": 0,
      "outputs": []
    },
    {
      "cell_type": "code",
      "metadata": {
        "id": "mX_dDzSYKdUw",
        "colab_type": "code",
        "outputId": "17461d1f-a541-4369-a090-dd357691a7e0",
        "colab": {
          "base_uri": "https://localhost:8080/",
          "height": 118
        }
      },
      "source": [
        "#take last 2 days data as testing data\n",
        "train_df, test_df = train_test_split(events_less_than_two, 2)"
      ],
      "execution_count": 0,
      "outputs": [
        {
          "output_type": "stream",
          "text": [
            "Training set length = 1747518\n",
            "Test set length = 7023\n"
          ],
          "name": "stdout"
        },
        {
          "output_type": "stream",
          "text": [
            "/usr/local/lib/python3.6/dist-packages/ipykernel_launcher.py:127: SettingWithCopyWarning: \n",
            "A value is trying to be set on a copy of a slice from a DataFrame\n",
            "\n",
            "See the caveats in the documentation: http://pandas.pydata.org/pandas-docs/stable/indexing.html#indexing-view-versus-copy\n"
          ],
          "name": "stderr"
        }
      ]
    },
    {
      "cell_type": "code",
      "metadata": {
        "id": "W-lBvbjdHECo",
        "colab_type": "code",
        "colab": {}
      },
      "source": [
        "# Find unique user_ids in training set\n",
        "training_user_ids = sorted(train_df['visitorid'].unique())\n",
        "user_id_to_index_dic = create_id_to_index_dic(training_user_ids)\n",
        "index_to_user_id_dic = create_index_to_id_dic(training_user_ids)\n",
        "\n",
        "# Find unique item_ids in training set\n",
        "training_item_ids = sorted(train_df['itemid'].unique())\n",
        "item_id_to_index_dic = create_id_to_index_dic(training_item_ids)\n",
        "index_to_item_id_dic = create_index_to_id_dic(training_item_ids)"
      ],
      "execution_count": 0,
      "outputs": []
    },
    {
      "cell_type": "code",
      "metadata": {
        "id": "GhvRbBQCHG_p",
        "colab_type": "code",
        "colab": {}
      },
      "source": [
        "# Initiate a confidence_matrix\n",
        "user_to_item_matrix = sp.dok_matrix((len(user_id_to_index_dic), len(item_id_to_index_dic)), dtype=np.int8)\n",
        "user_to_item_matrix = create_confidence_matrix2(train_df, user_to_item_matrix, user_id_to_index_dic, item_id_to_index_dic)"
      ],
      "execution_count": 0,
      "outputs": []
    },
    {
      "cell_type": "code",
      "metadata": {
        "id": "9Gvg3srKHHeb",
        "colab_type": "code",
        "outputId": "a8f8f982-5b44-46d2-de64-b48265b25f3e",
        "colab": {
          "base_uri": "https://localhost:8080/",
          "height": 34
        }
      },
      "source": [
        "find_sparsity(user_to_item_matrix)"
      ],
      "execution_count": 0,
      "outputs": [
        {
          "output_type": "stream",
          "text": [
            "Sparsity = 99.99830919191533\n"
          ],
          "name": "stdout"
        }
      ]
    },
    {
      "cell_type": "markdown",
      "metadata": {
        "id": "dBNyOCUAiLYM",
        "colab_type": "text"
      },
      "source": [
        "### Training with Factors=250, iterations=20, Alpha = 50"
      ]
    },
    {
      "cell_type": "code",
      "metadata": {
        "id": "MFqSu7imHgip",
        "colab_type": "code",
        "colab": {}
      },
      "source": [
        "model = implicit.als.AlternatingLeastSquares(factors=250, iterations=20, use_gpu=False)\n",
        "alpha = 50\n",
        "confidence_item_to_user = user_to_item_matrix.T * alpha"
      ],
      "execution_count": 0,
      "outputs": []
    },
    {
      "cell_type": "code",
      "metadata": {
        "id": "Cv0H4bS0HkGw",
        "colab_type": "code",
        "outputId": "2b484b14-2d41-4401-9af7-de7eda8dfa50",
        "colab": {
          "base_uri": "https://localhost:8080/",
          "height": 34
        }
      },
      "source": [
        "model.fit(confidence_item_to_user)"
      ],
      "execution_count": 0,
      "outputs": [
        {
          "output_type": "stream",
          "text": [
            "100%|██████████| 20.0/20 [35:54<00:00, 103.87s/it]\n"
          ],
          "name": "stderr"
        }
      ]
    },
    {
      "cell_type": "code",
      "metadata": {
        "id": "WbMZmPPdHuPv",
        "colab_type": "code",
        "colab": {}
      },
      "source": [
        "user_to_item_trained = confidence_item_to_user.T.tocsr()\n",
        "test_users_activities = get_user_activity_count(test_df)"
      ],
      "execution_count": 0,
      "outputs": []
    },
    {
      "cell_type": "markdown",
      "metadata": {
        "id": "C2RmE6sihTmd",
        "colab_type": "text"
      },
      "source": [
        "### filter_already_liked_items set to true"
      ]
    },
    {
      "cell_type": "code",
      "metadata": {
        "id": "tuzdDeiXHxsr",
        "colab_type": "code",
        "outputId": "bf253447-c08f-4359-c4d3-34d23209d505",
        "colab": {
          "base_uri": "https://localhost:8080/",
          "height": 67
        }
      },
      "source": [
        "#filter_already_liked_items set to true\n",
        "hit_ratio = find_hit_ratio(model, user_to_item_trained, test_users_activities, test_df, user_id_to_index_dic, index_to_item_id_dic,True)"
      ],
      "execution_count": 0,
      "outputs": [
        {
          "output_type": "stream",
          "text": [
            "Total # of common userIds in TrainSet and TestSet = 1300\n",
            "Total # of userIds for successful Recommendation = 152\n",
            "Total Coverage of Test dataset = 11.692307692307692\n"
          ],
          "name": "stdout"
        }
      ]
    },
    {
      "cell_type": "markdown",
      "metadata": {
        "id": "NLeF5rlwiFXb",
        "colab_type": "text"
      },
      "source": [
        "### filter_already_liked_items set to false"
      ]
    },
    {
      "cell_type": "code",
      "metadata": {
        "id": "dQknIhudhJf1",
        "colab_type": "code",
        "outputId": "3d307c0c-4ed4-4000-8991-6515ec66a926",
        "colab": {
          "base_uri": "https://localhost:8080/",
          "height": 67
        }
      },
      "source": [
        "#filter_already_liked_items set to false\n",
        "hit_ratio = find_hit_ratio(model, user_to_item_trained, test_users_activities, test_df, user_id_to_index_dic, index_to_item_id_dic, False)"
      ],
      "execution_count": 0,
      "outputs": [
        {
          "output_type": "stream",
          "text": [
            "Total # of common userIds in TrainSet and TestSet = 1300\n",
            "Total # of userIds for successful Recommendation = 426\n",
            "Total Coverage of Test dataset = 32.76923076923077\n"
          ],
          "name": "stdout"
        }
      ]
    },
    {
      "cell_type": "markdown",
      "metadata": {
        "id": "hkXQg7gM-3bE",
        "colab_type": "text"
      },
      "source": [
        "### Training with Factors=250, iterations=20, Alpha = 60"
      ]
    },
    {
      "cell_type": "code",
      "metadata": {
        "id": "i2n3W8Ldr5L1",
        "colab_type": "code",
        "colab": {}
      },
      "source": [
        "model = implicit.als.AlternatingLeastSquares(factors=250, iterations=20, use_gpu=False)\n",
        "alpha = 60\n",
        "confidence_item_to_user = user_to_item_matrix.T * alpha"
      ],
      "execution_count": 0,
      "outputs": []
    },
    {
      "cell_type": "code",
      "metadata": {
        "id": "uHb9EjcrsG9j",
        "colab_type": "code",
        "outputId": "672b8184-1589-4017-b3f8-33c6e7d278a5",
        "colab": {
          "base_uri": "https://localhost:8080/",
          "height": 34
        }
      },
      "source": [
        "model.fit(confidence_item_to_user)"
      ],
      "execution_count": 0,
      "outputs": [
        {
          "output_type": "stream",
          "text": [
            "100%|██████████| 20.0/20 [35:43<00:00, 97.25s/it] \n"
          ],
          "name": "stderr"
        }
      ]
    },
    {
      "cell_type": "code",
      "metadata": {
        "id": "ZrCIaeEmsMVG",
        "colab_type": "code",
        "colab": {}
      },
      "source": [
        "user_to_item_trained = confidence_item_to_user.T.tocsr()\n",
        "test_users_activities = get_user_activity_count(test_df)"
      ],
      "execution_count": 0,
      "outputs": []
    },
    {
      "cell_type": "code",
      "metadata": {
        "id": "FI2rzKaksQRx",
        "colab_type": "code",
        "outputId": "85079877-718a-43b9-eaff-f7483c7e3d63",
        "colab": {
          "base_uri": "https://localhost:8080/",
          "height": 67
        }
      },
      "source": [
        "#filter_already_liked_items set to true\n",
        "hhit_ratio = find_hit_ratio(model, user_to_item_trained, test_users_activities, test_df, user_id_to_index_dic, index_to_item_id_dic,True)"
      ],
      "execution_count": 0,
      "outputs": [
        {
          "output_type": "stream",
          "text": [
            "Total # of common userIds in TrainSet and TestSet = 1300\n",
            "Total # of userIds for successful Recommendation = 148\n",
            "Total Coverage of Test dataset = 11.384615384615385\n"
          ],
          "name": "stdout"
        }
      ]
    },
    {
      "cell_type": "code",
      "metadata": {
        "id": "cMuuSfPU0xee",
        "colab_type": "code",
        "outputId": "ed273e57-643a-4a9c-e1eb-72a9f94d2f88",
        "colab": {
          "base_uri": "https://localhost:8080/",
          "height": 67
        }
      },
      "source": [
        "#filter_already_liked_items set to true\n",
        "hhit_ratio = find_hit_ratio(model, user_to_item_trained, test_users_activities, test_df, user_id_to_index_dic, index_to_item_id_dic,False)"
      ],
      "execution_count": 0,
      "outputs": [
        {
          "output_type": "stream",
          "text": [
            "Total # of common userIds in TrainSet and TestSet = 1300\n",
            "Total # of userIds for successful Recommendation = 427\n",
            "Total Coverage of Test dataset = 32.84615384615385\n"
          ],
          "name": "stdout"
        }
      ]
    },
    {
      "cell_type": "code",
      "metadata": {
        "id": "QXWJyXpN0-bK",
        "colab_type": "code",
        "colab": {}
      },
      "source": [
        ""
      ],
      "execution_count": 0,
      "outputs": []
    }
  ]
}